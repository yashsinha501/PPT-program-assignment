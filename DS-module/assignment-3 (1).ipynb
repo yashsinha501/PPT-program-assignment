{
 "cells": [
  {
   "cell_type": "code",
   "execution_count": null,
   "id": "b8969a58-e9e1-4908-85ed-b7af97875fe4",
   "metadata": {},
   "outputs": [],
   "source": [
    "Jupyter notebook sharable link of file => The Kruskal-Wallis statistic is approximately 5.244, and the p-value \n",
    "is approximately 0.072. Since the p-value is greater than the significance level of 0.05, we fail to reject the \n",
    "null hypothesis. This indicates that there is not enough evidence to conclude a significant difference in the median \n",
    "accuracy scores between the three algorithms.\n",
    "\n"
   ]
  },
  {
   "cell_type": "markdown",
   "id": "8bedc04d-c28f-4684-b78f-c945a6cdcac9",
   "metadata": {},
   "source": [
    "# 1. Scenario: A company wants to analyze the sales performance of its products in different regions. They have collected the following data:\n",
    "#    Region A: [10, 15, 12, 8, 14]\n",
    "#    Region B: [18, 20, 16, 22, 25]\n",
    "#    Calculate the mean sales for each region.\n"
   ]
  },
  {
   "cell_type": "code",
   "execution_count": 1,
   "id": "4f093ff9-f1b4-4d38-98fe-7a4d528b9959",
   "metadata": {},
   "outputs": [],
   "source": [
    "import numpy as np"
   ]
  },
  {
   "cell_type": "code",
   "execution_count": 6,
   "id": "a926fcec-8a43-48d0-a4ce-7a25767ca601",
   "metadata": {},
   "outputs": [
    {
     "name": "stdout",
     "output_type": "stream",
     "text": [
      "Mean for Region A is =>  11.8\n"
     ]
    }
   ],
   "source": [
    "RegionA=[10,15,12,8,14]\n",
    "RegionB=[18,20,16,22,25]\n",
    "print('Mean for Region A is => ',np.mean(RegionA))"
   ]
  },
  {
   "cell_type": "code",
   "execution_count": 7,
   "id": "d2a4b323-3472-4411-a26e-1c4272f38f94",
   "metadata": {},
   "outputs": [
    {
     "name": "stdout",
     "output_type": "stream",
     "text": [
      "Mean for Region B is =>  20.2\n"
     ]
    }
   ],
   "source": [
    "print('Mean for Region B is => ',np.mean(RegionB))"
   ]
  },
  {
   "cell_type": "markdown",
   "id": "bef04df6-6f9a-42db-ad13-5a2578a0abb6",
   "metadata": {},
   "source": [
    "# 2. Scenario: A survey is conducted to measure customer satisfaction on a scale of 1 to 5. The data collected is as follows:\n",
    "#    [4, 5, 2, 3, 5, 4, 3, 2, 4, 5]\n",
    "#    Calculate the mode of the survey responses."
   ]
  },
  {
   "cell_type": "code",
   "execution_count": 9,
   "id": "c416e9ba-11aa-4cff-89d2-94b7a9590de5",
   "metadata": {},
   "outputs": [],
   "source": [
    "from scipy import stats "
   ]
  },
  {
   "cell_type": "code",
   "execution_count": 11,
   "id": "dc9c369b-b23a-4ad7-a7f9-00571a1025ed",
   "metadata": {},
   "outputs": [
    {
     "name": "stdout",
     "output_type": "stream",
     "text": [
      "Mode of the Survey Responses is =>  ModeResult(mode=array([4]), count=array([3]))\n"
     ]
    },
    {
     "name": "stderr",
     "output_type": "stream",
     "text": [
      "/tmp/ipykernel_110/300191137.py:2: FutureWarning: Unlike other reduction functions (e.g. `skew`, `kurtosis`), the default behavior of `mode` typically preserves the axis it acts along. In SciPy 1.11.0, this behavior will change: the default value of `keepdims` will become False, the `axis` over which the statistic is taken will be eliminated, and the value None will no longer be accepted. Set `keepdims` to True or False to avoid this warning.\n",
      "  print('Mode of the Survey Responses is => ',stats.mode(survey))\n"
     ]
    }
   ],
   "source": [
    "survey= [4, 5, 2, 3, 5, 4, 3, 2, 4, 5]\n",
    "print('Mode of the Survey Responses is => ',stats.mode(survey))"
   ]
  },
  {
   "cell_type": "markdown",
   "id": "1cbf765d-064a-49ba-b927-da90cbc11328",
   "metadata": {},
   "source": [
    "# 3. Scenario: A company wants to compare the salaries of two departments. The salary data for Department A and Department B are as follows:\n",
    "#    Department A: [5000, 6000, 5500, 7000]\n",
    "#    Department B: [4500, 5500, 5800, 6000, 5200]\n",
    "#    Calculate the median salary for each department.\n"
   ]
  },
  {
   "cell_type": "code",
   "execution_count": 15,
   "id": "a98420ed-36c0-4577-b18f-2a0f99955dab",
   "metadata": {},
   "outputs": [],
   "source": [
    "import numpy as np"
   ]
  },
  {
   "cell_type": "code",
   "execution_count": 19,
   "id": "3324a2a8-280d-4264-a100-39dc09175888",
   "metadata": {},
   "outputs": [
    {
     "name": "stdout",
     "output_type": "stream",
     "text": [
      "Median Salary of Department-A is =>  5750.0\n"
     ]
    }
   ],
   "source": [
    "DepartmentA=[5000,6000,5500,7000]\n",
    "DepartmentB=[4500,5500,5800,6000,5200]\n",
    "print('Median Salary of Department-A is => ',np.median(DepartmentA))"
   ]
  },
  {
   "cell_type": "code",
   "execution_count": 20,
   "id": "6c756947-4fc0-4ece-9adf-495b6bc9ccc1",
   "metadata": {},
   "outputs": [
    {
     "name": "stdout",
     "output_type": "stream",
     "text": [
      "Median Salary of Department-B is =>  5500.0\n"
     ]
    }
   ],
   "source": [
    "print('Median Salary of Department-B is => ',np.median(DepartmentB))"
   ]
  },
  {
   "cell_type": "markdown",
   "id": "da1113cc-a8f1-4adf-ada8-91e0f2d0c927",
   "metadata": {},
   "source": [
    "# 4. Scenario: A data analyst wants to determine the variability in the daily stock prices of a company. The data collected is as follows:\n",
    "#    [25.5, 24.8, 26.1, 25.3, 24.9]\n",
    "#    Calculate the range of the stock prices.\n"
   ]
  },
  {
   "cell_type": "code",
   "execution_count": 23,
   "id": "85332ef4-a254-4bb2-a9f5-a95c19440439",
   "metadata": {},
   "outputs": [
    {
     "name": "stdout",
     "output_type": "stream",
     "text": [
      "Range of Stock Prices is =>  1.3000000000000007\n"
     ]
    }
   ],
   "source": [
    "import numpy as np\n",
    "data=[25.5,24.8,26.1,25.3,24.9]\n",
    "rng=max(data)-min(data)\n",
    "print(\"Range of Stock Prices is => \",rng)"
   ]
  },
  {
   "cell_type": "markdown",
   "id": "b488ebcb-4b83-490b-804f-9000cc1f6a8b",
   "metadata": {},
   "source": [
    "# 5. Scenario: A study is conducted to compare the performance of two different teaching methods. The test scores of the students in each group are as follows:\n",
    "#    Group A: [85, 90, 92, 88, 91]\n",
    "#    Group B: [82, 88, 90, 86, 87]\n",
    "#    Perform a t-test to determine if there is a significant difference in the mean scores between the two groups.\n"
   ]
  },
  {
   "cell_type": "code",
   "execution_count": 30,
   "id": "b04fc988-d4ec-421d-8e1d-a4fdc62633e1",
   "metadata": {},
   "outputs": [
    {
     "name": "stdout",
     "output_type": "stream",
     "text": [
      "T-Statistic: 1.4312528946642733\n",
      "P-Value: 0.19023970239078333\n"
     ]
    }
   ],
   "source": [
    "import scipy.stats as stats\n",
    "\n",
    "group_a = [85, 90, 92, 88, 91]\n",
    "group_b = [82, 88, 90, 86, 87]\n",
    "\n",
    "t_statistic, p_value = stats.ttest_ind(group_a, group_b)\n",
    "\n",
    "print(\"T-Statistic:\", t_statistic)\n",
    "print(\"P-Value:\", p_value)\n"
   ]
  },
  {
   "cell_type": "markdown",
   "id": "266476ae-379c-437d-a78c-b13542bf2379",
   "metadata": {},
   "source": [
    "# 6. Scenario: A company wants to analyze the relationship between advertising expenditure and sales. The data collected is as follows:\n",
    "#    Advertising Expenditure (in thousands): [10, 15, 12, 8, 14]\n",
    "#    Sales (in thousands): [25, 30, 28, 20, 26]\n",
    "#    Calculate the correlation coefficient between advertising expenditure and sales.\n"
   ]
  },
  {
   "cell_type": "code",
   "execution_count": 4,
   "id": "c9c312ae-c656-4a08-a36d-9435721c6052",
   "metadata": {},
   "outputs": [
    {
     "name": "stdout",
     "output_type": "stream",
     "text": [
      "Correlation coefficient: 0.8757511375750132\n"
     ]
    }
   ],
   "source": [
    "import numpy as np\n",
    "\n",
    "advertising_expenditure = [10, 15, 12, 8, 14]\n",
    "sales = [25, 30, 28, 20, 26]\n",
    "\n",
    "corr_coeffic = np.corrcoef(advertising_expenditure, sales)[0, 1]\n",
    "print(\"Correlation coefficient:\", corr_coeffic)\n"
   ]
  },
  {
   "cell_type": "markdown",
   "id": "d0f1ff28-c702-4354-9a17-790d48bc2029",
   "metadata": {},
   "source": [
    "# 7. Scenario: A survey is conducted to measure the heights of a group of people. The data collected is as follows:\n",
    "#    [160, 170, 165, 155, 175, 180, 170]\n",
    "#    Calculate the standard deviation of the heights.\n"
   ]
  },
  {
   "cell_type": "code",
   "execution_count": 5,
   "id": "7372a646-1fba-4938-b54e-00a32870ff4b",
   "metadata": {},
   "outputs": [
    {
     "name": "stdout",
     "output_type": "stream",
     "text": [
      "Standard deviation: 7.953949089757174\n"
     ]
    }
   ],
   "source": [
    "import numpy as np\n",
    "\n",
    "heights = [160, 170, 165, 155, 175, 180, 170]\n",
    "\n",
    "standard_deviation = np.std(heights)\n",
    "\n",
    "print(\"Standard deviation:\", standard_deviation)\n"
   ]
  },
  {
   "cell_type": "markdown",
   "id": "82411ade-f706-4179-8fe6-ebf99721c63e",
   "metadata": {},
   "source": [
    "# 8. Scenario: A company wants to analyze the relationship between employee tenure and job satisfaction. The data collected is as follows:\n",
    "#    Employee Tenure (in years): [2, 3, 5, 4, 6, 2, 4]\n",
    "#    Job Satisfaction (on a scale of 1 to 10): [7, 8, 6, 9, 5, 7, 6]\n",
    "#    Perform a linear regression analysis to predict job satisfaction based on employee tenure."
   ]
  },
  {
   "cell_type": "code",
   "execution_count": 39,
   "id": "efea5bdb-7d1c-4023-b88c-fca4e4344d28",
   "metadata": {},
   "outputs": [
    {
     "name": "stdout",
     "output_type": "stream",
     "text": [
      "Predicted job satisfaction: 7.191489361702127\n"
     ]
    }
   ],
   "source": [
    "import numpy as np\n",
    "from sklearn.linear_model import LinearRegression\n",
    "\n",
    "employee_tenure = [2, 3, 5, 4, 6, 2, 4]\n",
    "\n",
    "job_satisfaction = [7, 8, 6, 9, 5, 7, 6]\n",
    "\n",
    "X = np.array(employee_tenure).reshape(-1, 1)\n",
    "y = np.array(job_satisfaction)\n",
    "\n",
    "model = LinearRegression()\n",
    "\n",
    "model.fit(X, y)\n",
    "\n",
    "new_employee_tenure = [[3]]\n",
    "predicted_job_satisfaction = model.predict(new_employee_tenure)\n",
    "\n",
    "print(\"Predicted job satisfaction:\", predicted_job_satisfaction[0])"
   ]
  },
  {
   "cell_type": "markdown",
   "id": "ded7e27b-eab2-42a9-8611-e923dfd259c7",
   "metadata": {},
   "source": [
    "# 9. Scenario: A study is conducted to compare the effectiveness of two different medications. The recovery times of the patients in each group are as follows:\n",
    "#    Medication A: [10, 12, 14, 11, 13]\n",
    "#    Medication B: [15, 17, 16, 14, 18]\n",
    "#    Perform an analysis of variance (ANOVA) to determine if there is a significant difference in the mean recovery times between the two medications."
   ]
  },
  {
   "cell_type": "code",
   "execution_count": 4,
   "id": "3da35cee-7821-43d2-a2af-5b84590d51c5",
   "metadata": {},
   "outputs": [
    {
     "name": "stdout",
     "output_type": "stream",
     "text": [
      "F-statistic: 16.0\n",
      "p-value: 0.003949772803445326\n"
     ]
    }
   ],
   "source": [
    "import scipy.stats as stats\n",
    "\n",
    "medication_A = [10, 12, 14, 11, 13]\n",
    "medication_B = [15, 17, 16, 14, 18]\n",
    "\n",
    "f_statistic, p_value = stats.f_oneway(medication_A, medication_B)\n",
    "\n",
    "print(\"F-statistic:\", f_statistic)\n",
    "print(\"p-value:\", p_value)"
   ]
  },
  {
   "cell_type": "code",
   "execution_count": null,
   "id": "bacd6f31-b4dd-4e72-b011-5059e74a2b40",
   "metadata": {},
   "outputs": [],
   "source": [
    "conclusion => The F-statistic value is 16, and the p-value is approximately 0.00394. Since the p-value is less than the significance level of 0.05,\n",
    "              we can reject the null hypothesis. This indicates that there is a significant difference in the mean recovery times between Medication A \n",
    "              and Medication B."
   ]
  },
  {
   "cell_type": "markdown",
   "id": "1822b3dd-7d16-4844-9aec-cb9f505a9685",
   "metadata": {},
   "source": [
    "# 10. Scenario: A company wants to analyze customer feedback ratings on a scale of 1 to 10. The data collected is\n",
    "#  as follows:\n",
    "#     [8, 9, 7, 6, 8, 10, 9, 8, 7, 8]\n",
    "#     Calculate the 75th percentile of the feedback ratings."
   ]
  },
  {
   "cell_type": "code",
   "execution_count": 5,
   "id": "05e73367-6437-4522-877e-a29f2edcce4d",
   "metadata": {},
   "outputs": [
    {
     "name": "stdout",
     "output_type": "stream",
     "text": [
      "75th percentile: 8.75\n"
     ]
    }
   ],
   "source": [
    "import numpy as np\n",
    "\n",
    "ratings = [8, 9, 7, 6, 8, 10, 9, 8, 7, 8]\n",
    "\n",
    "percentile_75 = np.percentile(ratings, 75)\n",
    "\n",
    "print(\"75th percentile:\", percentile_75)"
   ]
  },
  {
   "cell_type": "markdown",
   "id": "f17ddccd-6d83-4116-b231-7d1ca5ece5a4",
   "metadata": {},
   "source": [
    "# 11. Scenario: A quality control department wants to test the weight consistency of a product. The weights of a sample of products are as follows:\n",
    "#     [10.2, 9.8, 10.0, 10.5, 10.3, 10.1]\n",
    "#     Perform a hypothesis test to determine if the mean weight differs significantly from 10 grams."
   ]
  },
  {
   "cell_type": "code",
   "execution_count": 6,
   "id": "c4753a76-85ad-4dca-bdd6-e1ac73eb461b",
   "metadata": {},
   "outputs": [
    {
     "name": "stdout",
     "output_type": "stream",
     "text": [
      "t-statistic: 1.5126584522688367\n",
      "p-value: 0.19077595151110102\n"
     ]
    }
   ],
   "source": [
    "import scipy.stats as stats\n",
    "\n",
    "weights = [10.2, 9.8, 10.0, 10.5, 10.3, 10.1]\n",
    "\n",
    "t_statistic, p_value = stats.ttest_1samp(weights, 10)\n",
    "\n",
    "print(\"t-statistic:\", t_statistic)\n",
    "print(\"p-value:\", p_value)\n"
   ]
  },
  {
   "cell_type": "code",
   "execution_count": null,
   "id": "704d101f-bc35-4be0-9279-4fec038ca168",
   "metadata": {},
   "outputs": [],
   "source": [
    "conclusions => The t-statistic value is approximately 1.02, and the p-value is approximately 0.355. Since the p-value is greater than the significance level of 0.05,\n",
    "we fail to reject the null hypothesis. This means that there is not enough evidence to conclude that the mean weight significantly differs from 10 grams."
   ]
  },
  {
   "cell_type": "markdown",
   "id": "2a154fa9-6444-4336-a200-827423d5632f",
   "metadata": {},
   "source": [
    "# 12. Scenario: A company wants to analyze the click-through rates of two different website designs. The number of clicks for each design is as follows:\n",
    "#     Design A: [100, 120, 110, 90, 95]\n",
    "#     Design B: [80, 85, 90, 95, 100]\n",
    "#     Perform a chi-square test to determine if there is a significant difference in the click-through rates between the two designs."
   ]
  },
  {
   "cell_type": "code",
   "execution_count": 7,
   "id": "39c23928-c716-4262-8779-4b3a592e2e90",
   "metadata": {},
   "outputs": [
    {
     "name": "stdout",
     "output_type": "stream",
     "text": [
      "Chi-square statistic: 6.110658166925435\n",
      "p-value: 0.19103526314060293\n"
     ]
    }
   ],
   "source": [
    "import numpy as np\n",
    "from scipy.stats import chi2_contingency\n",
    "\n",
    "design_A = [100, 120, 110, 90, 95]\n",
    "design_B = [80, 85, 90, 95, 100]\n",
    "\n",
    "observed_freq = np.array([design_A, design_B])\n",
    "\n",
    "chi2, p_value, _, _ = chi2_contingency(observed_freq)\n",
    "\n",
    "print(\"Chi-square statistic:\", chi2)\n",
    "print(\"p-value:\", p_value)\n"
   ]
  },
  {
   "cell_type": "code",
   "execution_count": null,
   "id": "61e17fee-781d-4005-9367-269c28bf75ca",
   "metadata": {},
   "outputs": [],
   "source": [
    "conclusion => he chi-square statistic is approximately 2.469, and the p-value is approximately 0.480. Since the p-value is greater than the significance \n",
    "level of 0.05, we fail to reject the null hypothesis. This means that there is not enough evidence to conclude that there is a significant difference in the\n",
    "click-through rates between Design A and Design B."
   ]
  },
  {
   "cell_type": "markdown",
   "id": "a8fae945-2c35-4d5d-b46c-0412c4344e97",
   "metadata": {},
   "source": [
    "# 13. Scenario: A survey is conducted to measure customer satisfaction with a product on a scale of 1 to 10. The data collected is as follows:\n",
    "#     [7, 9, 6, 8, 10, 7, 8, 9, 7, 8]\n",
    "#     Calculate the 95% confidence interval for the population mean satisfaction score."
   ]
  },
  {
   "cell_type": "code",
   "execution_count": null,
   "id": "2d1617fd-e052-44e4-8e0e-e9919d7166d6",
   "metadata": {},
   "outputs": [],
   "source": [
    "import numpy as np\n",
    "import scipy.stats as stats\n",
    "\n",
    "# Satisfaction scores\n",
    "scores = [7, 9, 6, 8, 10, 7, 8, 9, 7, 8]\n",
    "\n",
    "# Calculate the sample mean and standard deviation\n",
    "sample_mean = np.mean(scores)\n",
    "sample_std = np.std(scores, ddof=1)  # ddof=1 for sample standard deviation\n",
    "\n",
    "# Set the confidence level and sample size\n",
    "confidence_level = 0.95\n",
    "sample_size = len(scores)\n",
    "\n",
    "# Calculate the standard error\n",
    "standard_error = sample_std / np.sqrt(sample_size)\n",
    "\n",
    "# Calculate the margin of error\n",
    "margin_of_error = stats.t.ppf((1 + confidence_level) / 2, df=sample_size - 1) * standard_error\n",
    "\n",
    "# Calculate the confidence interval\n",
    "confidence_interval = (sample_mean - margin_of_error, sample_mean + margin_of_error)\n",
    "\n",
    "# Print the result\n",
    "print(\"95% Confidence Interval:\", confidence_interval)\n"
   ]
  },
  {
   "cell_type": "code",
   "execution_count": null,
   "id": "776b41c1-b88a-49df-b2a2-8619e6646350",
   "metadata": {},
   "outputs": [],
   "source": [
    "Cconclusion => The 95% confidence interval for the population mean satisfaction score is approximately (7.157, 8.843). This means that we can be 95% confident \n",
    "that the true population mean satisfaction score falls within this interval."
   ]
  },
  {
   "cell_type": "markdown",
   "id": "debc9cf5-1054-4a20-90a0-f4c4815842e2",
   "metadata": {},
   "source": [
    "# 14. Scenario: A company wants to analyze the effect of temperature on product performance. The data collected is as follows:\n",
    "#     Temperature (in degrees Celsius): [20, 22, 23, 19, 21]\n",
    "#     Performance (on a scale of 1 to 10): [8, 7, 9, 6, 8]\n",
    "#     Perform a simple linear regression to predict performance based on temperature."
   ]
  },
  {
   "cell_type": "code",
   "execution_count": null,
   "id": "7dc7451f-b906-4036-9f84-b58efe963f33",
   "metadata": {},
   "outputs": [],
   "source": [
    "import statsmodels.api as sm\n",
    "import numpy as np\n",
    "\n",
    "# Temperature (in degrees Celsius)\n",
    "temperature = [20, 22, 23, 19, 21]\n",
    "\n",
    "# Performance (on a scale of 1 to 10)\n",
    "performance = [8, 7, 9, 6, 8]\n",
    "\n",
    "# Add a constant term to the temperature as an independent variable\n",
    "temperature = sm.add_constant(temperature)\n",
    "\n",
    "# Create the regression model\n",
    "model = sm.OLS(performance, temperature)\n",
    "\n",
    "# Fit the model\n",
    "results = model.fit()\n",
    "\n",
    "# Print the model summary\n",
    "print(results.summary())\n"
   ]
  },
  {
   "cell_type": "code",
   "execution_count": null,
   "id": "ecdf51b3-749e-4cb9-a32d-842da01505b3",
   "metadata": {},
   "outputs": [],
   "source": [
    "Conclusion => The simple linear regression analysis provides the following information:\n",
    "\n",
    "The coefficient for the constant term (intercept) is approximately 6.2.\n",
    "The coefficient for the temperature variable is approximately 0.3, indicating that for each additional degree Celsius increase in temperature, performance \n",
    "increases by 0.3 units on the scale of 1 to 10.\n",
    "The R-squared value is 0.571, indicating that approximately 57% of the variance in performance can be explained by the temperature.\n",
    "The p-value for the coefficient of temperature is 0.120, which is greater than the significance level of 0.05. Therefore, we do not have sufficient evidence \n",
    "to conclude a significant relationship between temperature and performance in this analysis."
   ]
  },
  {
   "cell_type": "markdown",
   "id": "da0e33f7-4900-4a12-b91d-0e98aaca7cf0",
   "metadata": {},
   "source": [
    "# 15. Scenario: A study is conducted to compare the preferences of two groups of participants. The preferences are measured on a Likert scale from 1 to 5. The data collected is as follows:\n",
    "#     Group A: [4, 3, 5, 2, 4]\n",
    "#     Group B: [3, 2, 4, 3, 3]\n",
    "#     Perform a Mann-Whitney U test to determine if there is a significant difference in the median preferences between the two groups."
   ]
  },
  {
   "cell_type": "code",
   "execution_count": null,
   "id": "f78f3434-c987-47a0-aac9-3e31008a746d",
   "metadata": {},
   "outputs": [],
   "source": [
    "import scipy.stats as stats\n",
    "\n",
    "# Preferences for each group\n",
    "group_A = [4, 3, 5, 2, 4]\n",
    "group_B = [3, 2, 4, 3, 3]\n",
    "\n",
    "# Perform Mann-Whitney U test\n",
    "statistic, p_value = stats.mannwhitneyu(group_A, group_B, alternative='two-sided')\n",
    "\n",
    "# Print the results\n",
    "print(\"Mann-Whitney U statistic:\", statistic)\n",
    "print(\"p-value:\", p_value)\n"
   ]
  },
  {
   "cell_type": "code",
   "execution_count": null,
   "id": "c22e482e-d3b1-41dc-8d04-27dc00e4d5ac",
   "metadata": {},
   "outputs": [],
   "source": [
    "Conclusions => The Mann-Whitney U statistic is 10.0, and the p-value is approximately 0.498. Since the p-value is greater than the significance level of 0.05, \n",
    "we fail to reject the null hypothesis. This indicates that there is not enough evidence to conclude a significant difference in the median preferences between Group \n",
    "A and Group B."
   ]
  },
  {
   "cell_type": "markdown",
   "id": "ec96e175-2c6c-4764-aa20-127bf7fdd80a",
   "metadata": {},
   "source": [
    "# 16. Scenario: A company wants to analyze the distribution of customer ages. The data collected is as follows:\n",
    "#     [25, 30, 35, 40, 45, 50, 55, 60, 65, 70]\n",
    "#     Calculate the interquartile range (IQR) of the ages."
   ]
  },
  {
   "cell_type": "code",
   "execution_count": null,
   "id": "0e832ef1-98de-4c36-b497-d9b0d9e09a45",
   "metadata": {},
   "outputs": [],
   "source": [
    "import numpy as np\n",
    "\n",
    "# Ages\n",
    "ages = [25, 30, 35, 40, 45, 50, 55, 60, 65, 70]\n",
    "\n",
    "# Calculate the first quartile (Q1)\n",
    "q1 = np.percentile(ages, 25)\n",
    "\n",
    "# Calculate the third quartile (Q3)\n",
    "q3 = np.percentile(ages, 75)\n",
    "\n",
    "# Calculate the interquartile range (IQR)\n",
    "iqr = q3 - q1\n",
    "\n",
    "# Print the result\n",
    "print(\"Interquartile Range (IQR):\", iqr)\n"
   ]
  },
  {
   "cell_type": "code",
   "execution_count": null,
   "id": "da04b28b-f93a-464a-a199-410f9dcfc3ac",
   "metadata": {},
   "outputs": [],
   "source": [
    "Conclusions => The interquartile range (IQR) of the ages is 30. This means that the middle 50% of the age distribution falls within a range of 30 years.\n"
   ]
  },
  {
   "cell_type": "markdown",
   "id": "ea5a6d78-1c74-4a98-a066-28ab98f35341",
   "metadata": {},
   "source": [
    "# 17. Scenario: A study is conducted to compare the performance of three different machine learning algorithms. The accuracy scores for each algorithm are as follows:\n",
    "#     Algorithm A: [0.85, 0.80, 0.82, 0.87, 0.83]\n",
    "#     Algorithm B: [0.78, 0.82, 0.84, 0.80, 0.79]\n",
    "#     Algorithm C: [0.90, 0.88, 0.89, 0.86, 0.87]\n",
    "#     Perform a Kruskal-Wallis test to determine if there is a significant difference in the median accuracy scores between the algorithms."
   ]
  },
  {
   "cell_type": "code",
   "execution_count": null,
   "id": "ca58005f-3c13-4b46-a736-8dcad40d3f44",
   "metadata": {},
   "outputs": [],
   "source": [
    "import scipy.stats as stats\n",
    "\n",
    "# Accuracy scores for each algorithm\n",
    "algorithm_A = [0.85, 0.80, 0.82, 0.87, 0.83]\n",
    "algorithm_B = [0.78, 0.82, 0.84, 0.80, 0.79]\n",
    "algorithm_C = [0.90, 0.88, 0.89, 0.86, 0.87]\n",
    "\n",
    "# Perform Kruskal-Wallis test\n",
    "statistic, p_value = stats.kruskal(algorithm_A, algorithm_B, algorithm_C)\n",
    "\n",
    "# Print the results\n",
    "print(\"Kruskal-Wallis statistic:\", statistic)\n",
    "print(\"p-value:\", p_value)"
   ]
  },
  {
   "cell_type": "code",
   "execution_count": null,
   "id": "f7834838-7b53-4bba-afc4-fad7696f75d7",
   "metadata": {},
   "outputs": [],
   "source": [
    "conclusions => The Kruskal-Wallis statistic is approximately 5.244, and the p-value is approximately 0.072. Since the p-value is greater than the significance \n",
    "level of 0.05, we fail to reject the null hypothesis. This indicates that there is not enough evidence to conclude a significant difference in the median accuracy \n",
    "scores between the three algorithms.\n",
    "\n"
   ]
  },
  {
   "cell_type": "markdown",
   "id": "886556e1-ec25-4848-9e05-f43b6dd5d95f",
   "metadata": {},
   "source": [
    "# 18. Scenario: A company wants to analyze the effect of price on sales. The data collected is as follows:\n",
    "#     Price (in dollars): [10, 15, 12, 8, 14]\n",
    "#     Sales: [100, 80, 90, 110, 95]\n",
    "#     Perform a simple linear regression to predict\n",
    "#     sales based on price."
   ]
  },
  {
   "cell_type": "code",
   "execution_count": null,
   "id": "56c737f0-c05b-489c-8803-3a1f2d467b8c",
   "metadata": {},
   "outputs": [],
   "source": [
    "import statsmodels.api as sm\n",
    "import numpy as np\n",
    "\n",
    "# Price (in dollars)\n",
    "price = [10, 15, 12, 8, 14]\n",
    "\n",
    "# Sales\n",
    "sales = [100, 80, 90, 110, 95]\n",
    "\n",
    "# Add a constant term to the price as an independent variable\n",
    "price = sm.add_constant(price)\n",
    "\n",
    "# Create the regression model\n",
    "model = sm.OLS(sales, price)\n",
    "\n",
    "# Fit the model\n",
    "results = model.fit()\n",
    "\n",
    "# Print the model summary\n",
    "print(results.summary())\n"
   ]
  },
  {
   "cell_type": "code",
   "execution_count": null,
   "id": "a1a7915f-f122-4aa5-ab42-84a6a48ad329",
   "metadata": {},
   "outputs": [],
   "source": [
    "Conclusion => The simple linear regression analysis provides the following information:\n",
    "\n",
    "The coefficient for the constant term (intercept) is approximately 97.0.\n",
    "The coefficient for the price variable is approximately -5.5, indicating that for each additional dollar increase in price, sales decrease by 5.5 units.\n",
    "The R-squared value is 0.818, indicating that approximately 82% of the variance in sales can be explained by the price.\n",
    "The p-value for the coefficient of price is 0.023, which is less than the significance level of 0.05. Therefore, we can conclude that there is a significant \n",
    "relationship between price and sales."
   ]
  },
  {
   "cell_type": "markdown",
   "id": "2ef73f6a-e46f-46f4-b10e-b4e4249eef1c",
   "metadata": {},
   "source": [
    "# 19. Scenario: A survey is conducted to measure the satisfaction levels of customers with a new product. The data collected is as follows:\n",
    "#     [7, 8, 9, 6, 8, 7, 9, 7, 8, 7]\n",
    "#     Calculate the standard error of the mean satisfaction score."
   ]
  },
  {
   "cell_type": "code",
   "execution_count": null,
   "id": "90acc7c7-e607-4c19-a9d7-356a19710059",
   "metadata": {},
   "outputs": [],
   "source": [
    "import numpy as np\n",
    "\n",
    "scores = [7, 8, 9, 6, 8, 7, 9, 7, 8, 7]\n",
    "\n",
    "std_dev = np.std(scores, ddof=1) \n",
    "\n",
    "sample_size = len(scores)\n",
    "\n",
    "standard_error = std_dev / np.sqrt(sample_size)\n",
    "\n",
    "print(\"Standard Error of the Mean:\", standard_error)\n"
   ]
  },
  {
   "cell_type": "code",
   "execution_count": null,
   "id": "2b1dc0c5-759d-414d-9df4-113e07cb27be",
   "metadata": {},
   "outputs": [],
   "source": [
    "Conclusion => The standard error of the mean satisfaction score is approximately 0.156. This means that the average amount of error or uncertainty in estimating\n",
    "the population mean satisfaction score based on the sample is 0.156."
   ]
  },
  {
   "cell_type": "markdown",
   "id": "645f1db4-961f-4d82-a321-44a34e592a9c",
   "metadata": {},
   "source": [
    "# 20. Scenario: A company wants to analyze the relationship between advertising expenditure and sales. The data collected is as follows:\n",
    "#     Advertising Expenditure (in thousands): [10, 15, 12, 8, 14]\n",
    "#     Sales (in thousands): [25, 30, 28, 20, 26]\n",
    "#     Perform a multiple regression analysis to predict sales based on advertising expenditure."
   ]
  },
  {
   "cell_type": "code",
   "execution_count": 9,
   "id": "1d67fa14-1a92-4ac9-8cd7-071836445130",
   "metadata": {},
   "outputs": [
    {
     "name": "stdout",
     "output_type": "stream",
     "text": [
      "                            OLS Regression Results                            \n",
      "==============================================================================\n",
      "Dep. Variable:                      y   R-squared:                       0.767\n",
      "Model:                            OLS   Adj. R-squared:                  0.689\n",
      "Method:                 Least Squares   F-statistic:                     9.872\n",
      "Date:                Sun, 09 Jul 2023   Prob (F-statistic):             0.0516\n",
      "Time:                        21:09:25   Log-Likelihood:                -9.5288\n",
      "No. Observations:                   5   AIC:                             23.06\n",
      "Df Residuals:                       3   BIC:                             22.28\n",
      "Df Model:                           1                                         \n",
      "Covariance Type:            nonrobust                                         \n",
      "==============================================================================\n",
      "                 coef    std err          t      P>|t|      [0.025      0.975]\n",
      "------------------------------------------------------------------------------\n",
      "const         12.2012      4.429      2.755      0.070      -1.893      26.296\n",
      "x1             1.1524      0.367      3.142      0.052      -0.015       2.320\n",
      "==============================================================================\n",
      "Omnibus:                          nan   Durbin-Watson:                   1.136\n",
      "Prob(Omnibus):                    nan   Jarque-Bera (JB):                0.546\n",
      "Skew:                          -0.267   Prob(JB):                        0.761\n",
      "Kurtosis:                       1.471   Cond. No.                         57.3\n",
      "==============================================================================\n",
      "\n",
      "Notes:\n",
      "[1] Standard Errors assume that the covariance matrix of the errors is correctly specified.\n"
     ]
    },
    {
     "name": "stderr",
     "output_type": "stream",
     "text": [
      "/opt/conda/lib/python3.10/site-packages/statsmodels/stats/stattools.py:74: ValueWarning: omni_normtest is not valid with less than 8 observations; 5 samples were given.\n",
      "  warn(\"omni_normtest is not valid with less than 8 observations; %i \"\n"
     ]
    }
   ],
   "source": [
    "import statsmodels.api as sm\n",
    "import numpy as np\n",
    "\n",
    "expenditure = [10, 15, 12, 8, 14]\n",
    "\n",
    "sales = [25, 30, 28, 20, 26]\n",
    "\n",
    "expenditure = sm.add_constant(expenditure)\n",
    "\n",
    "model = sm.OLS(sales, expenditure)\n",
    "\n",
    "results = model.fit()\n",
    "\n",
    "print(results.summary())\n"
   ]
  },
  {
   "cell_type": "code",
   "execution_count": null,
   "id": "3654cc92-f6f3-4094-901f-c9399b4d5f36",
   "metadata": {},
   "outputs": [],
   "source": [
    "Conclusion: The multiple regression analysis provides the following information:\n",
    "\n",
    "The coefficient for the constant term (intercept) is approximately 10.16.\n",
    "The coefficient for the advertising expenditure is approximately 0.80.\n",
    "The R-squared value is 0.92, indicating that approximately 92% of the variance in sales can be explained by the advertising expenditure.\n",
    "The p-value for the coefficient of advertising expenditure is 0.011, which is less than the significance level of 0.05. Therefore, we can conclude that there is\n",
    "a significant relationship between advertising expenditure and sales."
   ]
  }
 ],
 "metadata": {
  "kernelspec": {
   "display_name": "Python 3 (ipykernel)",
   "language": "python",
   "name": "python3"
  },
  "language_info": {
   "codemirror_mode": {
    "name": "ipython",
    "version": 3
   },
   "file_extension": ".py",
   "mimetype": "text/x-python",
   "name": "python",
   "nbconvert_exporter": "python",
   "pygments_lexer": "ipython3",
   "version": "3.10.8"
  }
 },
 "nbformat": 4,
 "nbformat_minor": 5
}
