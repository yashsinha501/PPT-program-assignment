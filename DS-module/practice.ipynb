{
 "cells": [
  {
   "cell_type": "markdown",
   "id": "ec7ab584-8e17-4301-94de-1f334bb17cb5",
   "metadata": {},
   "source": [
    "# 1. Write a Python program to reverse a string without using any built-in string reversal functions."
   ]
  },
  {
   "cell_type": "code",
   "execution_count": 1,
   "id": "282d5f73-9214-498a-9fab-8c49c7fa69cd",
   "metadata": {},
   "outputs": [
    {
     "name": "stdin",
     "output_type": "stream",
     "text": [
      "Enter a string:  YashSinha\n"
     ]
    },
    {
     "name": "stdout",
     "output_type": "stream",
     "text": [
      "Reversed string: ahniShsaY\n"
     ]
    }
   ],
   "source": [
    "def revstr(input_string):\n",
    "    reversed_string = \"\"\n",
    "    for i in range(len(input_string) - 1, -1, -1):\n",
    "        reversed_string += input_string[i]\n",
    "    return reversed_string\n",
    "\n",
    "if __name__ == \"__main__\":\n",
    "    user_input = input(\"Enter a string: \")\n",
    "    reverse = revstr(user_input)\n",
    "    print(\"Reversed string:\", reverse)\n"
   ]
  },
  {
   "cell_type": "markdown",
   "id": "134e01e4-7200-419f-9c2d-fc7a794a2140",
   "metadata": {},
   "source": [
    "# 2. Implement a function to check if a given string is a palindrome."
   ]
  },
  {
   "cell_type": "code",
   "execution_count": 2,
   "id": "6514c456-3ee2-40fa-b485-6ca9a2e5c20f",
   "metadata": {},
   "outputs": [
    {
     "name": "stdin",
     "output_type": "stream",
     "text": [
      "Enter a string:  geeksskeeg\n"
     ]
    },
    {
     "name": "stdout",
     "output_type": "stream",
     "text": [
      "The string is a palindrome.\n"
     ]
    }
   ],
   "source": [
    "def ispalindrome(input_string):\n",
    "    input_string = input_string.replace(\" \", \"\").lower()\n",
    "    if input_string == input_string[::-1]:\n",
    "        return True\n",
    "    else:\n",
    "        return False\n",
    "\n",
    "if __name__ == \"__main__\":\n",
    "    user_input = input(\"Enter a string: \")\n",
    "    if ispalindrome(user_input):\n",
    "        print(\"The string is a palindrome.\")\n",
    "    else:\n",
    "        print(\"The string is not a palindrome.\")\n"
   ]
  },
  {
   "cell_type": "markdown",
   "id": "848f2190-c814-496e-bd9b-4f8e20ef71c4",
   "metadata": {},
   "source": [
    "# 3. Write a program to find the largest element in a given list."
   ]
  },
  {
   "cell_type": "code",
   "execution_count": 3,
   "id": "128ade1d-bf4f-4067-91ba-89685a31466f",
   "metadata": {},
   "outputs": [
    {
     "name": "stdin",
     "output_type": "stream",
     "text": [
      "Enter a list of numbers separated by spaces:  1 2 3 4 5 6\n"
     ]
    },
    {
     "name": "stdout",
     "output_type": "stream",
     "text": [
      "The largest element is: 6\n"
     ]
    }
   ],
   "source": [
    "def find_largest_element(lst):\n",
    "    if not lst:\n",
    "        return None\n",
    "\n",
    "    largest = lst[0]\n",
    "\n",
    "    for element in lst:\n",
    "        if element > largest:\n",
    "            largest = element\n",
    "\n",
    "    return largest\n",
    "\n",
    "if __name__ == \"__main__\":\n",
    "    user_input = input(\"Enter a list of numbers separated by spaces: \")\n",
    "    input_list = [int(num) for num in user_input.split()]\n",
    "    largest_element = find_largest_element(input_list)\n",
    "    print(\"The largest element is:\", largest_element)\n"
   ]
  },
  {
   "cell_type": "markdown",
   "id": "fa87fca0-7c86-4012-a0a8-1fc2fd5caa8e",
   "metadata": {},
   "source": [
    "# 4. Implement a function to count the occurrence of each element in a list."
   ]
  },
  {
   "cell_type": "code",
   "execution_count": 4,
   "id": "1cbf9f51-0c66-44f7-938c-927e36ed9f89",
   "metadata": {},
   "outputs": [
    {
     "name": "stdin",
     "output_type": "stream",
     "text": [
      "Enter a list of elements separated by spaces:  1 1 2 4 5 6 3 3 3\n"
     ]
    },
    {
     "name": "stdout",
     "output_type": "stream",
     "text": [
      "1: 2\n",
      "2: 1\n",
      "4: 1\n",
      "5: 1\n",
      "6: 1\n",
      "3: 3\n"
     ]
    }
   ],
   "source": [
    "def count_elements(lst):\n",
    "    element_count = {}\n",
    "\n",
    "    for element in lst:\n",
    "        if element in element_count:\n",
    "            element_count[element] += 1\n",
    "        else:\n",
    "            element_count[element] = 1\n",
    "\n",
    "    return element_count\n",
    "\n",
    "if __name__ == \"__main__\":\n",
    "    user_input = input(\"Enter a list of elements separated by spaces: \")\n",
    "    input_list = user_input.split()\n",
    "    element_occurrences = count_elements(input_list)\n",
    "    \n",
    "    for element, count in element_occurrences.items():\n",
    "        print(f\"{element}: {count}\")\n"
   ]
  },
  {
   "cell_type": "markdown",
   "id": "723f6ffb-35ce-42af-b4bd-bc6820534254",
   "metadata": {},
   "source": [
    "# 5. Write a Python program to find the second largest number in a list."
   ]
  },
  {
   "cell_type": "code",
   "execution_count": 5,
   "id": "ee543592-9f35-4a8f-bbe5-5db5601828a7",
   "metadata": {},
   "outputs": [
    {
     "name": "stdin",
     "output_type": "stream",
     "text": [
      "Enter a list of numbers separated by spaces:  1 2 3 4 5 4 2\n"
     ]
    },
    {
     "name": "stdout",
     "output_type": "stream",
     "text": [
      "The second largest number is: 4\n"
     ]
    }
   ],
   "source": [
    "def find_second_largest(lst):\n",
    "    if len(lst) < 2:\n",
    "        return None\n",
    "\n",
    "    largest = max(lst[0], lst[1])\n",
    "    second_largest = min(lst[0], lst[1])\n",
    "\n",
    "    for i in range(2, len(lst)):\n",
    "        if lst[i] > largest:\n",
    "            second_largest = largest\n",
    "            largest = lst[i]\n",
    "        elif lst[i] > second_largest and lst[i] != largest:\n",
    "            second_largest = lst[i]\n",
    "\n",
    "    return second_largest\n",
    "\n",
    "if __name__ == \"__main__\":\n",
    "    user_input = input(\"Enter a list of numbers separated by spaces: \")\n",
    "    input_list = [int(num) for num in user_input.split()]\n",
    "    second_largest_number = find_second_largest(input_list)\n",
    "    \n",
    "    if second_largest_number is None:\n",
    "        print(\"The list does not contain enough elements.\")\n",
    "    else:\n",
    "        print(\"The second largest number is:\", second_largest_number)\n"
   ]
  },
  {
   "cell_type": "markdown",
   "id": "205c482c-b829-402e-beba-13c3c6a5ea74",
   "metadata": {},
   "source": [
    "# 6. Implement a function to remove duplicate elements from a list."
   ]
  },
  {
   "cell_type": "code",
   "execution_count": 6,
   "id": "f5a4212f-536e-496c-afd3-1dda2d6ba8b6",
   "metadata": {},
   "outputs": [
    {
     "name": "stdin",
     "output_type": "stream",
     "text": [
      "Enter a list of elements separated by spaces:  1 2 3 3 4 4 5 5 5 6\n"
     ]
    },
    {
     "name": "stdout",
     "output_type": "stream",
     "text": [
      "List with duplicates removed: ['5', '3', '6', '4', '2', '1']\n"
     ]
    }
   ],
   "source": [
    "def remove_duplicates(lst):\n",
    "    return list(set(lst))\n",
    "\n",
    "if __name__ == \"__main__\":\n",
    "    user_input = input(\"Enter a list of elements separated by spaces: \")\n",
    "    input_list = user_input.split()\n",
    "    unique_elements = remove_duplicates(input_list)\n",
    "    print(\"List with duplicates removed:\", unique_elements)\n"
   ]
  },
  {
   "cell_type": "markdown",
   "id": "31683c6d-0fa5-4b84-9a86-1b423ee35e90",
   "metadata": {},
   "source": [
    "# 7. Write a program to calculate the factorial of a given number."
   ]
  },
  {
   "cell_type": "code",
   "execution_count": 7,
   "id": "9f6921c9-a6e9-4504-96ee-92a3c5b973f1",
   "metadata": {},
   "outputs": [
    {
     "name": "stdin",
     "output_type": "stream",
     "text": [
      "Enter a number:  5\n"
     ]
    },
    {
     "name": "stdout",
     "output_type": "stream",
     "text": [
      "Factorial: 120\n"
     ]
    }
   ],
   "source": [
    "def calculate_factorial(n):\n",
    "    factorial = 1\n",
    "    for i in range(1, n + 1):\n",
    "        factorial *= i\n",
    "    return factorial\n",
    "\n",
    "if __name__ == \"__main__\":\n",
    "    user_input = int(input(\"Enter a number: \"))\n",
    "    factorial_result = calculate_factorial(user_input)\n",
    "    print(\"Factorial:\", factorial_result)\n"
   ]
  },
  {
   "cell_type": "markdown",
   "id": "0a4b524d-6482-4fe5-a33f-629449e9e2c5",
   "metadata": {},
   "source": [
    "# 8. Implement a function to check if a given number is prime."
   ]
  },
  {
   "cell_type": "code",
   "execution_count": 8,
   "id": "b05f1bbb-c53c-4e03-9ebc-a0f76baee20a",
   "metadata": {},
   "outputs": [
    {
     "name": "stdin",
     "output_type": "stream",
     "text": [
      "Enter a number:  7\n"
     ]
    },
    {
     "name": "stdout",
     "output_type": "stream",
     "text": [
      "The number is prime.\n"
     ]
    }
   ],
   "source": [
    "def is_prime(number):\n",
    "    if number <= 1:\n",
    "        return False\n",
    "\n",
    "    for i in range(2, int(number ** 0.5) + 1):\n",
    "        if number % i == 0:\n",
    "            return False\n",
    "\n",
    "    return True\n",
    "\n",
    "if __name__ == \"__main__\":\n",
    "    user_input = int(input(\"Enter a number: \"))\n",
    "    if is_prime(user_input):\n",
    "        print(\"The number is prime.\")\n",
    "    else:\n",
    "        print(\"The number is not prime.\")\n"
   ]
  },
  {
   "cell_type": "markdown",
   "id": "ac4b94d0-d26f-474f-87a8-fc1757038d11",
   "metadata": {},
   "source": [
    "# 9. Write a Python program to sort a list of integers in ascending order."
   ]
  },
  {
   "cell_type": "code",
   "execution_count": 9,
   "id": "63b950e3-597d-4582-bd07-d44ce16f996c",
   "metadata": {},
   "outputs": [
    {
     "name": "stdin",
     "output_type": "stream",
     "text": [
      "Enter a list of integers separated by spaces:  2 4 1 6 84 4 5\n"
     ]
    },
    {
     "name": "stdout",
     "output_type": "stream",
     "text": [
      "Sorted list in ascending order: [1, 2, 4, 4, 5, 6, 84]\n"
     ]
    }
   ],
   "source": [
    "def sort_list_ascending(lst):\n",
    "    return sorted(lst)\n",
    "\n",
    "if __name__ == \"__main__\":\n",
    "    user_input = input(\"Enter a list of integers separated by spaces: \")\n",
    "    input_list = [int(num) for num in user_input.split()]\n",
    "    sorted_list = sort_list_ascending(input_list)\n",
    "    print(\"Sorted list in ascending order:\", sorted_list)\n"
   ]
  },
  {
   "cell_type": "markdown",
   "id": "b9640f46-8c6f-4d4c-9d69-592dc2c5ac63",
   "metadata": {},
   "source": [
    "# 10. Implement a function to find the sum of all numbers in a list."
   ]
  },
  {
   "cell_type": "code",
   "execution_count": 10,
   "id": "c4f34c1d-d5d3-48af-a6f4-35c83fc9b698",
   "metadata": {},
   "outputs": [
    {
     "name": "stdin",
     "output_type": "stream",
     "text": [
      "Enter a list of numbers separated by spaces:  1 2 3 4 5\n"
     ]
    },
    {
     "name": "stdout",
     "output_type": "stream",
     "text": [
      "Sum of numbers: 15\n"
     ]
    }
   ],
   "source": [
    "def calculate_sum(lst):\n",
    "    return sum(lst)\n",
    "\n",
    "if __name__ == \"__main__\":\n",
    "    user_input = input(\"Enter a list of numbers separated by spaces: \")\n",
    "    input_list = [int(num) for num in user_input.split()]\n",
    "    sum_of_numbers = calculate_sum(input_list)\n",
    "    print(\"Sum of numbers:\", sum_of_numbers)\n"
   ]
  },
  {
   "cell_type": "markdown",
   "id": "6de1df83-bd48-4f51-806a-7a396707b927",
   "metadata": {},
   "source": [
    "# 11. Write a program to find the common elements between two lists."
   ]
  },
  {
   "cell_type": "code",
   "execution_count": 11,
   "id": "f9a7e7f0-1487-4f34-8789-3d96a21b7f52",
   "metadata": {},
   "outputs": [
    {
     "name": "stdin",
     "output_type": "stream",
     "text": [
      "Enter the elements of the first list separated by spaces:  1 2 3\n",
      "Enter the elements of the second list separated by spaces:  1 2 2\n"
     ]
    },
    {
     "name": "stdout",
     "output_type": "stream",
     "text": [
      "Common elements: ['2', '1']\n"
     ]
    }
   ],
   "source": [
    "def find_common_elements(list1, list2):\n",
    "    common_elements = set(list1) & set(list2)\n",
    "    return list(common_elements)\n",
    "\n",
    "if __name__ == \"__main__\":\n",
    "    input_list1 = input(\"Enter the elements of the first list separated by spaces: \").split()\n",
    "    input_list2 = input(\"Enter the elements of the second list separated by spaces: \").split()\n",
    "    \n",
    "    common_elements = find_common_elements(input_list1, input_list2)\n",
    "    \n",
    "    if common_elements:\n",
    "        print(\"Common elements:\", common_elements)\n",
    "    else:\n",
    "        print(\"No common elements found.\")\n"
   ]
  },
  {
   "cell_type": "markdown",
   "id": "cbdc1c84-64d4-4f55-8573-f32671ad11bc",
   "metadata": {},
   "source": [
    "# 12. Implement a function to check if a given string is an anagram of another string."
   ]
  },
  {
   "cell_type": "code",
   "execution_count": 12,
   "id": "0c853584-b39b-41d4-860f-ad6629c28028",
   "metadata": {},
   "outputs": [
    {
     "name": "stdin",
     "output_type": "stream",
     "text": [
      "Enter the first string:  Yash\n",
      "Enter the second string:  Sinha\n"
     ]
    },
    {
     "name": "stdout",
     "output_type": "stream",
     "text": [
      "The strings are not anagrams.\n"
     ]
    }
   ],
   "source": [
    "def is_anagram(str1, str2):\n",
    "\n",
    "    str1 = str1.lower().replace(\" \", \"\")\n",
    "    str2 = str2.lower().replace(\" \", \"\")\n",
    "\n",
    "    return sorted(str1) == sorted(str2)\n",
    "\n",
    "if __name__ == \"__main__\":\n",
    "    user_input1 = input(\"Enter the first string: \")\n",
    "    user_input2 = input(\"Enter the second string: \")\n",
    "\n",
    "    if is_anagram(user_input1, user_input2):\n",
    "        print(\"The strings are anagrams.\")\n",
    "    else:\n",
    "        print(\"The strings are not anagrams.\")\n"
   ]
  },
  {
   "cell_type": "markdown",
   "id": "3e1f341b-52ee-4071-b849-8f1ca26b53e1",
   "metadata": {},
   "source": [
    "# 13. Write a Python program to generate all permutations of a given string."
   ]
  },
  {
   "cell_type": "code",
   "execution_count": 13,
   "id": "347089f9-bfdb-427b-a0cd-01f23b648e3a",
   "metadata": {},
   "outputs": [
    {
     "name": "stdin",
     "output_type": "stream",
     "text": [
      "Enter a string:  abcd\n"
     ]
    },
    {
     "name": "stdout",
     "output_type": "stream",
     "text": [
      "Permutations of the string:\n",
      "abcd\n",
      "abdc\n",
      "acbd\n",
      "acdb\n",
      "adbc\n",
      "adcb\n",
      "bacd\n",
      "badc\n",
      "bcad\n",
      "bcda\n",
      "bdac\n",
      "bdca\n",
      "cabd\n",
      "cadb\n",
      "cbad\n",
      "cbda\n",
      "cdab\n",
      "cdba\n",
      "dabc\n",
      "dacb\n",
      "dbac\n",
      "dbca\n",
      "dcab\n",
      "dcba\n"
     ]
    }
   ],
   "source": [
    "def generate_permutations(input_string):\n",
    "\n",
    "    if len(input_string) == 1:\n",
    "        return [input_string]\n",
    "\n",
    "    permutations = []\n",
    "    for i in range(len(input_string)):\n",
    "        char = input_string[i]\n",
    "        remaining_chars = input_string[:i] + input_string[i+1:]\n",
    "        sub_permutations = generate_permutations(remaining_chars)\n",
    "        for permutation in sub_permutations:\n",
    "            permutations.append(char + permutation)\n",
    "\n",
    "    return permutations\n",
    "\n",
    "if __name__ == \"__main__\":\n",
    "    user_input = input(\"Enter a string: \")\n",
    "    permutations = generate_permutations(user_input)\n",
    "    print(\"Permutations of the string:\")\n",
    "    for permutation in permutations:\n",
    "        print(permutation)\n"
   ]
  },
  {
   "cell_type": "markdown",
   "id": "6c6c8f82-28b3-4328-876b-628890037046",
   "metadata": {},
   "source": [
    "# 14. Implement a function to calculate the Fibonacci sequence up to a given number of terms."
   ]
  },
  {
   "cell_type": "code",
   "execution_count": 14,
   "id": "99ac81ce-4ab8-41cd-b124-44e449400dda",
   "metadata": {},
   "outputs": [
    {
     "name": "stdin",
     "output_type": "stream",
     "text": [
      "Enter the number of terms:  7\n"
     ]
    },
    {
     "name": "stdout",
     "output_type": "stream",
     "text": [
      "Fibonacci sequence:\n",
      "0 1 1 2 3 5 8 "
     ]
    }
   ],
   "source": [
    "def fibonacci_sequence(n):\n",
    "    sequence = []\n",
    "    if n >= 1:\n",
    "        sequence.append(0)\n",
    "    if n >= 2:\n",
    "        sequence.append(1)\n",
    "    \n",
    "    for i in range(2, n):\n",
    "        next_number = sequence[i-1] + sequence[i-2]\n",
    "        sequence.append(next_number)\n",
    "    \n",
    "    return sequence\n",
    "\n",
    "if __name__ == \"__main__\":\n",
    "    user_input = int(input(\"Enter the number of terms: \"))\n",
    "    fibonacci_sequence = fibonacci_sequence(user_input)\n",
    "    print(\"Fibonacci sequence:\")\n",
    "    for term in fibonacci_sequence:\n",
    "        print(term, end=\" \")\n"
   ]
  },
  {
   "cell_type": "markdown",
   "id": "b9120612-afc5-4169-8434-e47e722b841d",
   "metadata": {},
   "source": [
    "# 15. Write a program to find the median of a list of numbers."
   ]
  },
  {
   "cell_type": "code",
   "execution_count": 15,
   "id": "0e08408c-925b-4014-be43-252a03f7f326",
   "metadata": {},
   "outputs": [
    {
     "name": "stdin",
     "output_type": "stream",
     "text": [
      "Enter a list of numbers separated by spaces:  1 2 3 4 5\n"
     ]
    },
    {
     "name": "stdout",
     "output_type": "stream",
     "text": [
      "Median: 3.0\n"
     ]
    }
   ],
   "source": [
    "def find_median(numbers):\n",
    "    sorted_numbers = sorted(numbers)\n",
    "    n = len(sorted_numbers)\n",
    "    mid_index = n // 2\n",
    "\n",
    "    if n % 2 == 0:\n",
    "        median = (sorted_numbers[mid_index - 1] + sorted_numbers[mid_index]) / 2\n",
    "    else:\n",
    "        median = sorted_numbers[mid_index]\n",
    "\n",
    "    return median\n",
    "\n",
    "if __name__ == \"__main__\":\n",
    "    user_input = input(\"Enter a list of numbers separated by spaces: \")\n",
    "    numbers_list = [float(num) for num in user_input.split()]\n",
    "    median = find_median(numbers_list)\n",
    "    print(\"Median:\", median)\n"
   ]
  },
  {
   "cell_type": "markdown",
   "id": "811fea12-8ba6-4e6c-9d9e-6ce771cf1b7a",
   "metadata": {},
   "source": [
    "# 16. Implement a function to check if a given list is sorted in non-decreasing order."
   ]
  },
  {
   "cell_type": "code",
   "execution_count": 16,
   "id": "3f15dda8-952a-44f1-a8c1-fedd337b109e",
   "metadata": {},
   "outputs": [
    {
     "name": "stdin",
     "output_type": "stream",
     "text": [
      "Enter a list of numbers separated by spaces:  1 2 3 4 5\n"
     ]
    },
    {
     "name": "stdout",
     "output_type": "stream",
     "text": [
      "The list is sorted in non-decreasing order.\n"
     ]
    }
   ],
   "source": [
    "def is_sorted(lst):\n",
    "    return all(lst[i] <= lst[i+1] for i in range(len(lst)-1))\n",
    "\n",
    "if __name__ == \"__main__\":\n",
    "    user_input = input(\"Enter a list of numbers separated by spaces: \")\n",
    "    numbers_list = [float(num) for num in user_input.split()]\n",
    "\n",
    "    if is_sorted(numbers_list):\n",
    "        print(\"The list is sorted in non-decreasing order.\")\n",
    "    else:\n",
    "        print(\"The list is not sorted in non-decreasing order.\")\n"
   ]
  },
  {
   "cell_type": "markdown",
   "id": "755bfd1f-ae13-44ee-9413-c014d5938d38",
   "metadata": {},
   "source": [
    "# 17. Write a Python program to find the intersection of two lists."
   ]
  },
  {
   "cell_type": "code",
   "execution_count": 17,
   "id": "9e0cd45a-e1c8-4ba0-b3f0-908c34c84d3d",
   "metadata": {},
   "outputs": [
    {
     "name": "stdin",
     "output_type": "stream",
     "text": [
      "Enter the elements of the first list separated by spaces:  1 2 3 3 6\n",
      "Enter the elements of the second list separated by spaces:  1 2 4\n"
     ]
    },
    {
     "name": "stdout",
     "output_type": "stream",
     "text": [
      "Intersection: ['2', '1']\n"
     ]
    }
   ],
   "source": [
    "def find_intersection(list1, list2):\n",
    "    set1 = set(list1)\n",
    "    set2 = set(list2)\n",
    "    intersection = set1.intersection(set2)\n",
    "    return list(intersection)\n",
    "\n",
    "if __name__ == \"__main__\":\n",
    "    input_list1 = input(\"Enter the elements of the first list separated by spaces: \").split()\n",
    "    input_list2 = input(\"Enter the elements of the second list separated by spaces: \").split()\n",
    "\n",
    "    intersection = find_intersection(input_list1, input_list2)\n",
    "\n",
    "    if intersection:\n",
    "        print(\"Intersection:\", intersection)\n",
    "    else:\n",
    "        print(\"No intersection found.\")\n"
   ]
  },
  {
   "cell_type": "markdown",
   "id": "7ed6acbc-f2b0-4d2a-83f6-5303c46c66d4",
   "metadata": {},
   "source": [
    "# 18. Implement a function to find the maximum subarray sum in a given list."
   ]
  },
  {
   "cell_type": "code",
   "execution_count": 18,
   "id": "9e1d8cbf-d317-4d38-b330-a68aa2c54f87",
   "metadata": {},
   "outputs": [
    {
     "name": "stdin",
     "output_type": "stream",
     "text": [
      "Enter a list of numbers separated by spaces:  2 3 4 1 6 8 3 4 2\n"
     ]
    },
    {
     "name": "stdout",
     "output_type": "stream",
     "text": [
      "Maximum subarray sum: 33\n"
     ]
    }
   ],
   "source": [
    "def find_max_subarray_sum(lst):\n",
    "    if len(lst) == 0:\n",
    "        return 0\n",
    "\n",
    "    max_sum = current_sum = lst[0]\n",
    "\n",
    "    for num in lst[1:]:\n",
    "        current_sum = max(num, current_sum + num)\n",
    "        max_sum = max(max_sum, current_sum)\n",
    "\n",
    "    return max_sum\n",
    "\n",
    "if __name__ == \"__main__\":\n",
    "    user_input = input(\"Enter a list of numbers separated by spaces: \")\n",
    "    numbers_list = [int(num) for num in user_input.split()]\n",
    "    max_subarray_sum = find_max_subarray_sum(numbers_list)\n",
    "    print(\"Maximum subarray sum:\", max_subarray_sum)\n"
   ]
  },
  {
   "cell_type": "markdown",
   "id": "aef7eea7-d32c-49fd-a58e-0d372f4f325b",
   "metadata": {},
   "source": [
    "# 19. Write a program to remove all vowels from a given string."
   ]
  },
  {
   "cell_type": "code",
   "execution_count": 19,
   "id": "02057432-a126-406a-8c2e-555324a31f24",
   "metadata": {},
   "outputs": [
    {
     "name": "stdin",
     "output_type": "stream",
     "text": [
      "Enter a string:  Yash Sinha\n"
     ]
    },
    {
     "name": "stdout",
     "output_type": "stream",
     "text": [
      "String after removing vowels: Ysh Snh\n"
     ]
    }
   ],
   "source": [
    "def remove_vowels(input_string):\n",
    "    vowels = \"aeiouAEIOU\"\n",
    "    return \"\".join(char for char in input_string if char not in vowels)\n",
    "\n",
    "if __name__ == \"__main__\":\n",
    "    user_input = input(\"Enter a string: \")\n",
    "    result = remove_vowels(user_input)\n",
    "    print(\"String after removing vowels:\", result)\n"
   ]
  },
  {
   "cell_type": "markdown",
   "id": "93f53d68-676d-4a89-b9c4-ee7971cd8735",
   "metadata": {},
   "source": [
    "# 20. Implement a function to reverse the order of words in a given sentence."
   ]
  },
  {
   "cell_type": "code",
   "execution_count": 20,
   "id": "01ca469a-df92-45c8-a657-3aea192f8d08",
   "metadata": {},
   "outputs": [
    {
     "name": "stdin",
     "output_type": "stream",
     "text": [
      "Enter a sentence:  My name is Yash\n"
     ]
    },
    {
     "name": "stdout",
     "output_type": "stream",
     "text": [
      "Reversed sentence: Yash is name My\n"
     ]
    }
   ],
   "source": [
    "def reverse_sentence(sentence):\n",
    "    words = sentence.split()\n",
    "    reversed_words = words[::-1]\n",
    "    reversed_sentence = \" \".join(reversed_words)\n",
    "    return reversed_sentence\n",
    "\n",
    "if __name__ == \"__main__\":\n",
    "    user_input = input(\"Enter a sentence: \")\n",
    "    reversed_sentence = reverse_sentence(user_input)\n",
    "    print(\"Reversed sentence:\", reversed_sentence)\n"
   ]
  },
  {
   "cell_type": "markdown",
   "id": "6d567988-8122-4cc2-99f2-db128b1d01ed",
   "metadata": {},
   "source": [
    "# 21. Write a Python program to check if two strings are anagrams of each other."
   ]
  },
  {
   "cell_type": "code",
   "execution_count": 21,
   "id": "e4ff4f7f-08ee-4770-b757-cc154f8527c4",
   "metadata": {},
   "outputs": [
    {
     "name": "stdin",
     "output_type": "stream",
     "text": [
      "Enter the first string:  Yash\n",
      "Enter the second string:  Yash\n"
     ]
    },
    {
     "name": "stdout",
     "output_type": "stream",
     "text": [
      "The strings are anagrams.\n"
     ]
    }
   ],
   "source": [
    "def are_anagrams(str1, str2):\n",
    "\n",
    "    str1 = str1.lower().replace(\" \", \"\")\n",
    "    str2 = str2.lower().replace(\" \", \"\")\n",
    "\n",
    "    return sorted(str1) == sorted(str2)\n",
    "\n",
    "if __name__ == \"__main__\":\n",
    "    user_input1 = input(\"Enter the first string: \")\n",
    "    user_input2 = input(\"Enter the second string: \")\n",
    "\n",
    "    if are_anagrams(user_input1, user_input2):\n",
    "        print(\"The strings are anagrams.\")\n",
    "    else:\n",
    "        print(\"The strings are not anagrams.\")\n"
   ]
  },
  {
   "cell_type": "markdown",
   "id": "4a166270-b590-437e-a8f5-71ed65496bf7",
   "metadata": {},
   "source": [
    "# 22. Implement a function to find the first non-repeating character in a string."
   ]
  },
  {
   "cell_type": "code",
   "execution_count": 22,
   "id": "2d96a8ad-6844-4999-add6-e59e480c434d",
   "metadata": {},
   "outputs": [
    {
     "name": "stdin",
     "output_type": "stream",
     "text": [
      "Enter a string:  YASHSINHA\n"
     ]
    },
    {
     "name": "stdout",
     "output_type": "stream",
     "text": [
      "First non-repeating character: Y\n"
     ]
    }
   ],
   "source": [
    "def find_first_non_repeating_char(input_string):\n",
    "    char_count = {}\n",
    "    for char in input_string:\n",
    "        char_count[char] = char_count.get(char, 0) + 1\n",
    "    \n",
    "    for char in input_string:\n",
    "        if char_count[char] == 1:\n",
    "            return char\n",
    "    \n",
    "    return None\n",
    "\n",
    "if __name__ == \"__main__\":\n",
    "    user_input = input(\"Enter a string: \")\n",
    "    result = find_first_non_repeating_char(user_input)\n",
    "    \n",
    "    if result:\n",
    "        print(\"First non-repeating character:\", result)\n",
    "    else:\n",
    "        print(\"No non-repeating character found.\")\n"
   ]
  },
  {
   "cell_type": "markdown",
   "id": "53eab290-79e9-4899-ad14-fb2a4d9a48ab",
   "metadata": {},
   "source": [
    "# 23. Write a program to find the prime factors of a given number."
   ]
  },
  {
   "cell_type": "code",
   "execution_count": 23,
   "id": "608e66fc-8e84-4963-8b9c-d3e90baa1abc",
   "metadata": {},
   "outputs": [
    {
     "name": "stdin",
     "output_type": "stream",
     "text": [
      "Enter a number:  28\n"
     ]
    },
    {
     "name": "stdout",
     "output_type": "stream",
     "text": [
      "Prime factors: [2, 2, 7]\n"
     ]
    }
   ],
   "source": [
    "def find_prime_factors(number):\n",
    "    prime_factors = []\n",
    "    divisor = 2\n",
    "\n",
    "    while divisor <= number:\n",
    "        if number % divisor == 0:\n",
    "            prime_factors.append(divisor)\n",
    "            number /= divisor\n",
    "        else:\n",
    "            divisor += 1\n",
    "\n",
    "    return prime_factors\n",
    "\n",
    "if __name__ == \"__main__\":\n",
    "    user_input = int(input(\"Enter a number: \"))\n",
    "    factors = find_prime_factors(user_input)\n",
    "\n",
    "    if factors:\n",
    "        print(\"Prime factors:\", factors)\n",
    "    else:\n",
    "        print(\"The number has no prime factors.\")\n"
   ]
  },
  {
   "cell_type": "markdown",
   "id": "e9e1e9b1-7f46-49a6-8531-eeaa7c91f09f",
   "metadata": {},
   "source": [
    "# 24. Implement a function to check if a given number is a power of two."
   ]
  },
  {
   "cell_type": "code",
   "execution_count": 24,
   "id": "d688d157-c8e1-475a-a8cb-77807e964337",
   "metadata": {},
   "outputs": [
    {
     "name": "stdin",
     "output_type": "stream",
     "text": [
      "Enter a number:  128\n"
     ]
    },
    {
     "name": "stdout",
     "output_type": "stream",
     "text": [
      "The number is a power of two.\n"
     ]
    }
   ],
   "source": [
    "def is_power_of_two(number):\n",
    "    if number <= 0:\n",
    "        return False\n",
    "    return (number & (number - 1)) == 0\n",
    "\n",
    "if __name__ == \"__main__\":\n",
    "    user_input = int(input(\"Enter a number: \"))\n",
    "\n",
    "    if is_power_of_two(user_input):\n",
    "        print(\"The number is a power of two.\")\n",
    "    else:\n",
    "        print(\"The number is not a power of two.\")\n"
   ]
  },
  {
   "cell_type": "markdown",
   "id": "77563380-876f-4222-b73c-2d006dc8cbbc",
   "metadata": {},
   "source": [
    "# 25. Write a Python program to merge two sorted lists into a single sorted list."
   ]
  },
  {
   "cell_type": "code",
   "execution_count": 25,
   "id": "4c5b83e4-8c39-4216-8397-568bec4a96db",
   "metadata": {},
   "outputs": [
    {
     "name": "stdin",
     "output_type": "stream",
     "text": [
      "Enter the elements of the first sorted list separated by spaces:  1 2 3 5 9\n",
      "Enter the elements of the second sorted list separated by spaces:  2 4 7 \n"
     ]
    },
    {
     "name": "stdout",
     "output_type": "stream",
     "text": [
      "Merged and sorted list: [1, 2, 2, 3, 4, 5, 7, 9]\n"
     ]
    }
   ],
   "source": [
    "def merge_sorted_lists(list1, list2):\n",
    "    merged_list = []\n",
    "    i = j = 0\n",
    "\n",
    "    while i < len(list1) and j < len(list2):\n",
    "        if list1[i] <= list2[j]:\n",
    "            merged_list.append(list1[i])\n",
    "            i += 1\n",
    "        else:\n",
    "            merged_list.append(list2[j])\n",
    "            j += 1\n",
    "\n",
    "    merged_list.extend(list1[i:])\n",
    "    merged_list.extend(list2[j:])\n",
    "\n",
    "    return merged_list\n",
    "\n",
    "if __name__ == \"__main__\":\n",
    "    input_list1 = input(\"Enter the elements of the first sorted list separated by spaces: \").split()\n",
    "    input_list2 = input(\"Enter the elements of the second sorted list separated by spaces: \").split()\n",
    "\n",
    "    list1 = [int(num) for num in input_list1]\n",
    "    list2 = [int(num) for num in input_list2]\n",
    "\n",
    "    merged_list = merge_sorted_lists(list1, list2)\n",
    "\n",
    "    print(\"Merged and sorted list:\", merged_list)\n"
   ]
  },
  {
   "cell_type": "markdown",
   "id": "67640238-c89c-483c-a196-4b764479a9b1",
   "metadata": {},
   "source": [
    "# 26. Implement a function to find the mode of a list of numbers."
   ]
  },
  {
   "cell_type": "code",
   "execution_count": 26,
   "id": "6cc79755-8efb-4039-a83f-07685c3622c4",
   "metadata": {},
   "outputs": [
    {
     "name": "stdin",
     "output_type": "stream",
     "text": [
      "Enter a list of numbers separated by spaces:  1 2 3 4 5\n"
     ]
    },
    {
     "name": "stdout",
     "output_type": "stream",
     "text": [
      "The modes of the list are: 1, 2, 3, 4, 5\n"
     ]
    }
   ],
   "source": [
    "from collections import Counter\n",
    "\n",
    "def find_mode(numbers):\n",
    "    counter = Counter(numbers)\n",
    "    mode_count = max(counter.values())\n",
    "    modes = [num for num, count in counter.items() if count == mode_count]\n",
    "\n",
    "    return modes\n",
    "\n",
    "if __name__ == \"__main__\":\n",
    "    user_input = input(\"Enter a list of numbers separated by spaces: \")\n",
    "    numbers = [int(num) for num in user_input.split()]\n",
    "\n",
    "    modes = find_mode(numbers)\n",
    "\n",
    "    if len(modes) == 1:\n",
    "        print(\"The mode of the list is:\", modes[0])\n",
    "    else:\n",
    "        print(\"The modes of the list are:\", \", \".join(str(mode) for mode in modes))\n"
   ]
  },
  {
   "cell_type": "markdown",
   "id": "cb6a8645-624c-4887-896a-21a553e8298c",
   "metadata": {},
   "source": [
    "# 27. Write a program to find the greatest common divisor (GCD) of two numbers."
   ]
  },
  {
   "cell_type": "code",
   "execution_count": 27,
   "id": "918d9a17-1130-4459-855b-099559c505e1",
   "metadata": {},
   "outputs": [
    {
     "name": "stdin",
     "output_type": "stream",
     "text": [
      "Enter the first number:  8\n",
      "Enter the second number:  28\n"
     ]
    },
    {
     "name": "stdout",
     "output_type": "stream",
     "text": [
      "The GCD of 8 and 28 is: 4\n"
     ]
    }
   ],
   "source": [
    "def gcd(a, b):\n",
    "    while b != 0:\n",
    "        a, b = b, a % b\n",
    "    return a\n",
    "\n",
    "if __name__ == \"__main__\":\n",
    "    num1 = int(input(\"Enter the first number: \"))\n",
    "    num2 = int(input(\"Enter the second number: \"))\n",
    "\n",
    "    result = gcd(num1, num2)\n",
    "\n",
    "    print(\"The GCD of\", num1, \"and\", num2, \"is:\", result)\n"
   ]
  },
  {
   "cell_type": "markdown",
   "id": "a76715c8-2863-4d96-b017-630a4eba6d4d",
   "metadata": {},
   "source": [
    "# 28. Implement a function to calculate the square root of a given number."
   ]
  },
  {
   "cell_type": "code",
   "execution_count": 28,
   "id": "ce437be7-24c7-41e1-b226-ac9819946eb4",
   "metadata": {},
   "outputs": [
    {
     "name": "stdin",
     "output_type": "stream",
     "text": [
      "Enter a number:  25\n"
     ]
    },
    {
     "name": "stdout",
     "output_type": "stream",
     "text": [
      "The square root of 25.0 is: 5.000000000016778\n"
     ]
    }
   ],
   "source": [
    "def calculate_square_root(number, precision=0.00001):\n",
    "    if number < 0:\n",
    "        raise ValueError(\"Cannot calculate square root of a negative number.\")\n",
    "\n",
    "    guess = number / 2\n",
    "    while abs(guess * guess - number) > precision:\n",
    "        guess = (guess + number / guess) / 2\n",
    "\n",
    "    return guess\n",
    "\n",
    "if __name__ == \"__main__\":\n",
    "    user_input = float(input(\"Enter a number: \"))\n",
    "\n",
    "    try:\n",
    "        result = calculate_square_root(user_input)\n",
    "        print(\"The square root of\", user_input, \"is:\", result)\n",
    "    except ValueError as e:\n",
    "        print(e)\n"
   ]
  },
  {
   "cell_type": "markdown",
   "id": "4eb7b255-886f-4c96-9115-0134e5911793",
   "metadata": {},
   "source": [
    "# 29. Write a Python program to check if a given string is a valid palindrome ignoring non-alphanumeric characters."
   ]
  },
  {
   "cell_type": "code",
   "execution_count": 31,
   "id": "6a21415a-52b9-41a5-8823-45af2d3666fa",
   "metadata": {},
   "outputs": [
    {
     "name": "stdin",
     "output_type": "stream",
     "text": [
      "Enter a string:  Alakhsir1001rishkala\n"
     ]
    },
    {
     "name": "stdout",
     "output_type": "stream",
     "text": [
      "The string is a valid palindrome.\n"
     ]
    }
   ],
   "source": [
    "import re\n",
    "\n",
    "def is_valid_palindrome(string):\n",
    "    alphanumeric_string = re.sub(r'[^a-zA-Z0-9]', '', string.lower())\n",
    "    return alphanumeric_string == alphanumeric_string[::-1]\n",
    "\n",
    "if __name__ == \"__main__\":\n",
    "    user_input = input(\"Enter a string: \")\n",
    "\n",
    "    if is_valid_palindrome(user_input):\n",
    "        print(\"The string is a valid palindrome.\")\n",
    "    else:\n",
    "        print(\"The string is not a valid palindrome.\")\n"
   ]
  },
  {
   "cell_type": "markdown",
   "id": "bcff629b-fd44-4d9a-b3f4-2bd1a7de44d4",
   "metadata": {},
   "source": [
    "# 30. Implement a function to find the minimum element in a rotated sorted list."
   ]
  },
  {
   "cell_type": "code",
   "execution_count": 32,
   "id": "4aefc788-bce0-4409-8345-0743f3c204ce",
   "metadata": {},
   "outputs": [
    {
     "name": "stdin",
     "output_type": "stream",
     "text": [
      "Enter the elements of the rotated sorted list separated by spaces:  3 4 5 6 7 1 2\n"
     ]
    },
    {
     "name": "stdout",
     "output_type": "stream",
     "text": [
      "The minimum element in the rotated sorted list is: 1\n"
     ]
    }
   ],
   "source": [
    "def find_minimum(nums):\n",
    "    left = 0\n",
    "    right = len(nums) - 1\n",
    "\n",
    "    while left < right:\n",
    "        mid = left + (right - left) // 2\n",
    "\n",
    "        if nums[mid] > nums[right]:\n",
    "            left = mid + 1\n",
    "        else:\n",
    "            right = mid\n",
    "\n",
    "    return nums[left]\n",
    "\n",
    "if __name__ == \"__main__\":\n",
    "    user_input = input(\"Enter the elements of the rotated sorted list separated by spaces: \")\n",
    "    nums = [int(num) for num in user_input.split()]\n",
    "\n",
    "    minimum = find_minimum(nums)\n",
    "\n",
    "    print(\"The minimum element in the rotated sorted list is:\", minimum)\n"
   ]
  },
  {
   "cell_type": "markdown",
   "id": "e0dc6da7-e9d3-492d-b0f8-9dc3f22a723e",
   "metadata": {},
   "source": [
    "# 31. Write a program to find the sum of all even numbers in a list."
   ]
  },
  {
   "cell_type": "code",
   "execution_count": 33,
   "id": "9d92f0c3-1b3c-45de-8927-2dbac2c7ad6a",
   "metadata": {},
   "outputs": [
    {
     "name": "stdin",
     "output_type": "stream",
     "text": [
      "Enter a list of numbers separated by spaces:  2 4 6 8\n"
     ]
    },
    {
     "name": "stdout",
     "output_type": "stream",
     "text": [
      "The sum of even numbers in the list is: 20\n"
     ]
    }
   ],
   "source": [
    "def sum_of_even_numbers(numbers):\n",
    "    sum_even = 0\n",
    "\n",
    "    for num in numbers:\n",
    "        if num % 2 == 0:\n",
    "            sum_even += num\n",
    "\n",
    "    return sum_even\n",
    "\n",
    "if __name__ == \"__main__\":\n",
    "    user_input = input(\"Enter a list of numbers separated by spaces: \")\n",
    "    numbers = [int(num) for num in user_input.split()]\n",
    "\n",
    "    sum_even = sum_of_even_numbers(numbers)\n",
    "\n",
    "    print(\"The sum of even numbers in the list is:\", sum_even)\n"
   ]
  },
  {
   "cell_type": "markdown",
   "id": "b53b4c05-03b5-43f8-9d30-62ad0c39bd85",
   "metadata": {},
   "source": [
    "# 32. Implement a function to calculate the power of a number using recursion."
   ]
  },
  {
   "cell_type": "code",
   "execution_count": 34,
   "id": "6a63cea8-eaed-4757-91a9-8bfac6477b58",
   "metadata": {},
   "outputs": [
    {
     "name": "stdin",
     "output_type": "stream",
     "text": [
      "Enter the base number:  8\n",
      "Enter the exponent:  2\n"
     ]
    },
    {
     "name": "stdout",
     "output_type": "stream",
     "text": [
      "8.0 raised to the power of 2 is: 64.0\n"
     ]
    }
   ],
   "source": [
    "def power(base, exponent):\n",
    "    if exponent == 0:\n",
    "        return 1\n",
    "    elif exponent < 0:\n",
    "        return 1 / power(base, -exponent)\n",
    "    else:\n",
    "        return base * power(base, exponent - 1)\n",
    "\n",
    "if __name__ == \"__main__\":\n",
    "    base = float(input(\"Enter the base number: \"))\n",
    "    exponent = int(input(\"Enter the exponent: \"))\n",
    "\n",
    "    result = power(base, exponent)\n",
    "\n",
    "    print(base, \"raised to the power of\", exponent, \"is:\", result)\n"
   ]
  },
  {
   "cell_type": "markdown",
   "id": "5df399b9-6964-483e-bbf2-090865a5c12d",
   "metadata": {},
   "source": [
    "# 33. Write a Python program to remove duplicates from a list while preserving the order."
   ]
  },
  {
   "cell_type": "code",
   "execution_count": 35,
   "id": "25bd7611-d36a-47a5-b182-1571ca3bac03",
   "metadata": {},
   "outputs": [
    {
     "name": "stdin",
     "output_type": "stream",
     "text": [
      "Enter a list of elements separated by spaces:  2 2 4 5 5 6 7 9 9\n"
     ]
    },
    {
     "name": "stdout",
     "output_type": "stream",
     "text": [
      "List after removing duplicates: ['2', '4', '5', '6', '7', '9']\n"
     ]
    }
   ],
   "source": [
    "def remove_duplicates(lst):\n",
    "    unique_list = []\n",
    "    seen = set()\n",
    "\n",
    "    for item in lst:\n",
    "        if item not in seen:\n",
    "            unique_list.append(item)\n",
    "            seen.add(item)\n",
    "\n",
    "    return unique_list\n",
    "\n",
    "if __name__ == \"__main__\":\n",
    "    user_input = input(\"Enter a list of elements separated by spaces: \")\n",
    "    lst = user_input.split()\n",
    "\n",
    "    unique_list = remove_duplicates(lst)\n",
    "\n",
    "    print(\"List after removing duplicates:\", unique_list)\n"
   ]
  },
  {
   "cell_type": "markdown",
   "id": "0ec267aa-b067-478a-975d-7054d54d56d8",
   "metadata": {},
   "source": [
    "# 34. Implement a function to find the longest common prefix among a list of strings."
   ]
  },
  {
   "cell_type": "code",
   "execution_count": 38,
   "id": "9f0d3062-8331-4219-ad82-4920c71e16c5",
   "metadata": {},
   "outputs": [
    {
     "name": "stdin",
     "output_type": "stream",
     "text": [
      "Enter a list of strings separated by spaces:  yash\n"
     ]
    },
    {
     "name": "stdout",
     "output_type": "stream",
     "text": [
      "The longest common prefix is: yash\n"
     ]
    }
   ],
   "source": [
    "def longest_common_prefix(strings):\n",
    "    if not strings:\n",
    "        return \"\"\n",
    "\n",
    "    prefix = strings[0]\n",
    "\n",
    "    for string in strings[1:]:\n",
    "        while string[:len(prefix)] != prefix:\n",
    "            prefix = prefix[:-1]\n",
    "            if not prefix:\n",
    "                return \"\"\n",
    "\n",
    "    return prefix\n",
    "\n",
    "if __name__ == \"__main__\":\n",
    "    user_input = input(\"Enter a list of strings separated by spaces: \")\n",
    "    strings = user_input.split()\n",
    "\n",
    "    common_prefix = longest_common_prefix(strings)\n",
    "\n",
    "    print(\"The longest common prefix is:\", common_prefix)\n"
   ]
  },
  {
   "cell_type": "markdown",
   "id": "11124794-8542-4917-a6bc-c8fda609476f",
   "metadata": {},
   "source": [
    "# 35. Write a program to check if a given number is a perfect square."
   ]
  },
  {
   "cell_type": "code",
   "execution_count": 39,
   "id": "b4fa15ff-167d-4a4f-aa10-5188c65d3161",
   "metadata": {},
   "outputs": [
    {
     "name": "stdin",
     "output_type": "stream",
     "text": [
      "Enter a number:  17\n"
     ]
    },
    {
     "name": "stdout",
     "output_type": "stream",
     "text": [
      "The number is not a perfect square.\n"
     ]
    }
   ],
   "source": [
    "def is_perfect_square(num):\n",
    "    if num < 0:\n",
    "        return False\n",
    "\n",
    "    if num == 0 or num == 1:\n",
    "        return True\n",
    "\n",
    "    left = 1\n",
    "    right = num\n",
    "\n",
    "    while left <= right:\n",
    "        mid = left + (right - left) // 2\n",
    "        square = mid * mid\n",
    "\n",
    "        if square == num:\n",
    "            return True\n",
    "        elif square < num:\n",
    "            left = mid + 1\n",
    "        else:\n",
    "            right = mid - 1\n",
    "\n",
    "    return False\n",
    "\n",
    "if __name__ == \"__main__\":\n",
    "    user_input = int(input(\"Enter a number: \"))\n",
    "\n",
    "    if is_perfect_square(user_input):\n",
    "        print(\"The number is a perfect square.\")\n",
    "    else:\n",
    "        print(\"The number is not a perfect square.\")\n"
   ]
  },
  {
   "cell_type": "markdown",
   "id": "23190fe3-d550-4e71-92aa-09bcc84fcfb2",
   "metadata": {},
   "source": [
    "# 36. Implement a function to calculate the product of all elements in a list."
   ]
  },
  {
   "cell_type": "code",
   "execution_count": 40,
   "id": "efb749c7-b65f-4b21-bd93-8b7cc21d9f2b",
   "metadata": {},
   "outputs": [
    {
     "name": "stdin",
     "output_type": "stream",
     "text": [
      "Enter a list of numbers separated by spaces:  1 2 3 4 5\n"
     ]
    },
    {
     "name": "stdout",
     "output_type": "stream",
     "text": [
      "The product of all elements in the list is: 120\n"
     ]
    }
   ],
   "source": [
    "def product_of_elements(lst):\n",
    "    if not lst:\n",
    "        return 1\n",
    "\n",
    "    product = 1\n",
    "\n",
    "    for num in lst:\n",
    "        product *= num\n",
    "\n",
    "    return product\n",
    "\n",
    "if __name__ == \"__main__\":\n",
    "    user_input = input(\"Enter a list of numbers separated by spaces: \")\n",
    "    lst = [int(num) for num in user_input.split()]\n",
    "\n",
    "    result = product_of_elements(lst)\n",
    "\n",
    "    print(\"The product of all elements in the list is:\", result)\n"
   ]
  },
  {
   "cell_type": "markdown",
   "id": "37eebff1-7f27-4d46-8029-fa06e061947d",
   "metadata": {},
   "source": [
    "# 37. Write a Python program to reverse the order of words in a sentence while preserving the word order."
   ]
  },
  {
   "cell_type": "code",
   "execution_count": 41,
   "id": "8738e5e0-cd85-491a-8ae0-2e58d0b635f3",
   "metadata": {},
   "outputs": [
    {
     "name": "stdin",
     "output_type": "stream",
     "text": [
      "Enter a sentence:  This a PW\n"
     ]
    },
    {
     "name": "stdout",
     "output_type": "stream",
     "text": [
      "Reversed sentence: PW a This\n"
     ]
    }
   ],
   "source": [
    "def reverse_words(sentence):\n",
    "    words = sentence.split()\n",
    "    reversed_sentence = \" \".join(reversed(words))\n",
    "    return reversed_sentence\n",
    "\n",
    "if __name__ == \"__main__\":\n",
    "    user_input = input(\"Enter a sentence: \")\n",
    "\n",
    "    reversed_sentence = reverse_words(user_input)\n",
    "\n",
    "    print(\"Reversed sentence:\", reversed_sentence)\n",
    "\n",
    "    "
   ]
  },
  {
   "cell_type": "markdown",
   "id": "e961e1b7-c328-472e-80db-fe1ddf9d9a70",
   "metadata": {},
   "source": [
    "# 38. Implement a function to find the missing number in a given list of consecutive numbers."
   ]
  },
  {
   "cell_type": "code",
   "execution_count": 42,
   "id": "dff21078-335d-4f27-900e-a8157b3e8ce4",
   "metadata": {},
   "outputs": [
    {
     "name": "stdin",
     "output_type": "stream",
     "text": [
      "Enter a list of consecutive numbers separated by spaces:  1 2 4 5\n"
     ]
    },
    {
     "name": "stdout",
     "output_type": "stream",
     "text": [
      "The missing number in the list is: 3\n"
     ]
    }
   ],
   "source": [
    "def find_missing_number(lst):\n",
    "    n = len(lst) + 1\n",
    "    total_sum = (n * (n + 1)) // 2\n",
    "    actual_sum = sum(lst)\n",
    "    missing_number = total_sum - actual_sum\n",
    "    return missing_number\n",
    "\n",
    "if __name__ == \"__main__\":\n",
    "    user_input = input(\"Enter a list of consecutive numbers separated by spaces: \")\n",
    "    lst = [int(num) for num in user_input.split()]\n",
    "\n",
    "    missing_number = find_missing_number(lst)\n",
    "\n",
    "    print(\"The missing number in the list is:\", missing_number)\n"
   ]
  },
  {
   "cell_type": "markdown",
   "id": "7c911dee-18f4-4990-a757-673f03f49d17",
   "metadata": {},
   "source": [
    "# 39. Write a program to find the sum of digits of a given number."
   ]
  },
  {
   "cell_type": "code",
   "execution_count": null,
   "id": "6c0487a1-981d-4578-bf4f-1e8e0ad36ac5",
   "metadata": {},
   "outputs": [],
   "source": [
    "def sum_of_digits(number):\n",
    "\n",
    "    number_str = str(number)\n",
    "    \n",
    "    digit_sum = 0\n",
    "    \n",
    "    for digit in number_str:\n",
    "        digit_sum += int(digit)\n",
    "    \n",
    "    return digit_sum\n",
    "\n",
    "number = 12345\n",
    "result = sum_of_digits(number)\n",
    "print(f\"The sum of digits of {number} is: {result}\")"
   ]
  },
  {
   "cell_type": "markdown",
   "id": "f34d875a-a696-48b8-bfa1-84b9c5fdb0af",
   "metadata": {},
   "source": [
    "# 40. Implement a function to check if a given string is a valid palindrome considering case sensitivity."
   ]
  },
  {
   "cell_type": "code",
   "execution_count": null,
   "id": "b13f483a-fd16-4470-86ad-e9c00e295d81",
   "metadata": {},
   "outputs": [],
   "source": [
    "def is_palindrome(string):\n",
    "    string = string.replace(\" \", \"\")\n",
    "    \n",
    "    reversed_string = string[::-1]\n",
    "    \n",
    "    if string == reversed_string:\n",
    "        return True\n",
    "    else:\n",
    "        return False\n",
    "\n",
    "# Example usage\n",
    "string = \"Madam Arora teaches malayalam\"\n",
    "result = is_palindrome(string)\n",
    "if result:\n",
    "    print(f\"The string '{string}' is a palindrome.\")\n",
    "else:\n",
    "    print(f\"The string '{string}' is not a palindrome.\")\n"
   ]
  },
  {
   "cell_type": "markdown",
   "id": "12ede18a-b330-4ee6-9398-f9cfeca40a18",
   "metadata": {},
   "source": [
    "# 41. Write a Python program to find the smallest missing positive integer in a list."
   ]
  },
  {
   "cell_type": "code",
   "execution_count": null,
   "id": "0156be0a-4285-4295-aeb8-7afbc2010a2c",
   "metadata": {},
   "outputs": [],
   "source": [
    "def find_smallest_missing_positive(nums):\n",
    "\n",
    "    nums = [num for num in nums if num > 0]\n",
    "\n",
    "    if not nums:\n",
    "        return 1\n",
    "\n",
    "    num_set = set(nums)\n",
    "\n",
    "    smallest_missing = 1\n",
    "    while smallest_missing in num_set:\n",
    "        smallest_missing += 1\n",
    "\n",
    "    return smallest_missing\n",
    "\n",
    "numbers = [3, 4, -1, 1, 5, 7, 2, 0]\n",
    "result = find_smallest_missing_positive(numbers)\n",
    "print(f\"The smallest missing positive integer is: {result}\")\n"
   ]
  },
  {
   "cell_type": "markdown",
   "id": "9d5045b0-6467-4d30-ac90-312281a9e6d6",
   "metadata": {},
   "source": [
    "# 42. Implement a function to find the longest palindrome substring in a given string."
   ]
  },
  {
   "cell_type": "code",
   "execution_count": null,
   "id": "de0f0f35-256a-4bfd-8132-39182d3441a8",
   "metadata": {},
   "outputs": [],
   "source": [
    "def longest_palindrome_substring(string):\n",
    "\n",
    "    def expand_around_center(left, right):\n",
    "        while left >= 0 and right < len(string) and string[left] == string[right]:\n",
    "            left -= 1\n",
    "            right += 1\n",
    "        return string[left + 1 : right]\n",
    "\n",
    "    longest_palindrome = \"\"\n",
    "    for i in range(len(string)):\n",
    "      \n",
    "        palindrome_odd = expand_around_center(i, i)\n",
    "        if len(palindrome_odd) > len(longest_palindrome):\n",
    "            longest_palindrome = palindrome_odd\n",
    "\n",
    "        palindrome_even = expand_around_center(i, i + 1)\n",
    "        if len(palindrome_even) > len(longest_palindrome):\n",
    "            longest_palindrome = palindrome_even\n",
    "\n",
    "    return longest_palindrome\n",
    "\n",
    "input_string = \"babad\"\n",
    "result = longest_palindrome_substring(input_string)\n",
    "print(f\"The longest palindrome substring is: {result}\")\n"
   ]
  },
  {
   "cell_type": "markdown",
   "id": "6fa27e3c-2faf-423c-a237-95653227a902",
   "metadata": {},
   "source": [
    "# 43. Write a program to find the number of occurrences of a given element in a list."
   ]
  },
  {
   "cell_type": "code",
   "execution_count": null,
   "id": "8aad1acc-8131-4ebc-bb98-19fbaa609fbf",
   "metadata": {},
   "outputs": [],
   "source": [
    "def count_occurrences(lst, element):\n",
    "    count = 0\n",
    "    for item in lst:\n",
    "        if item == element:\n",
    "            count += 1\n",
    "    return count\n",
    "\n",
    "my_list = [1, 2, 3, 4, 2, 2, 3, 1, 2, 4]\n",
    "element = 2\n",
    "result = count_occurrences(my_list, element)\n",
    "print(f\"The number of occurrences of {element} in the list is: {result}\")\n"
   ]
  },
  {
   "cell_type": "markdown",
   "id": "a065c27f-0e52-4b34-b690-d3b6e0ffde2b",
   "metadata": {},
   "source": [
    "# 44. Implement a function to check if a given number is a perfect number."
   ]
  },
  {
   "cell_type": "code",
   "execution_count": null,
   "id": "e4478e7e-33a4-494e-b7f9-c7efe5914f5f",
   "metadata": {},
   "outputs": [],
   "source": [
    "def is_perfect_number(number):\n",
    "    if number <= 0:\n",
    "        return False\n",
    "\n",
    "    divisors_sum = 0\n",
    "    for i in range(1, number):\n",
    "        if number % i == 0:\n",
    "            divisors_sum += i\n",
    "\n",
    "    if divisors_sum == number:\n",
    "        return True\n",
    "    else:\n",
    "        return False\n",
    "\n",
    "number = 28\n",
    "result = is_perfect_number(number)\n",
    "if result:\n",
    "    print(f\"The number {number} is a perfect number.\")\n",
    "else:\n",
    "    print(f\"The number {number} is not a perfect number.\")\n"
   ]
  },
  {
   "cell_type": "markdown",
   "id": "374623f1-339a-4027-9882-fc30acd4f360",
   "metadata": {},
   "source": [
    "# 45. Write a Python program to remove all duplicates from a string."
   ]
  },
  {
   "cell_type": "code",
   "execution_count": null,
   "id": "bf20981a-52f5-451e-960d-a1820140fd69",
   "metadata": {},
   "outputs": [],
   "source": [
    "def remove_duplicates(string):\n",
    "\n",
    "    unique_chars = set()\n",
    "\n",
    "    result = \"\"\n",
    "\n",
    "    for char in string:\n",
    "        if char not in unique_chars:\n",
    "            unique_chars.add(char)\n",
    "            result += char\n",
    "\n",
    "    return result\n",
    "\n",
    "# Example usage\n",
    "input_string = \"Hello World\"\n",
    "result = remove_duplicates(input_string)\n",
    "print(f\"The string after removing duplicates: {result}\")\n"
   ]
  },
  {
   "cell_type": "markdown",
   "id": "6dc7a7ef-ef5a-419b-8d25-f3fab545e514",
   "metadata": {},
   "source": [
    "# 46. Implement a function to find the first missing positive"
   ]
  },
  {
   "cell_type": "code",
   "execution_count": null,
   "id": "84893aea-797a-4d3d-9c95-4388399cd97c",
   "metadata": {},
   "outputs": [],
   "source": [
    "def find_first_missing_positive(nums):\n",
    "    n = len(nums)\n",
    "\n",
    "    i = 0\n",
    "    while i < n:\n",
    "        if 1 <= nums[i] <= n and nums[nums[i] - 1] != nums[i]:\n",
    "            nums[nums[i] - 1], nums[i] = nums[i], nums[nums[i] - 1]\n",
    "        else:\n",
    "            i += 1\n",
    "\n",
    "    for i in range(n):\n",
    "        if nums[i] != i + 1:\n",
    "            return i + 1\n",
    "\n",
    "    return n + 1\n",
    "\n",
    "numbers = [3, 4, -1, 1, 5, 7, 2, 0]\n",
    "result = find_first_missing_positive(numbers)\n",
    "print(f\"The first missing positive integer is: {result}\")\n"
   ]
  }
 ],
 "metadata": {
  "kernelspec": {
   "display_name": "Python 3 (ipykernel)",
   "language": "python",
   "name": "python3"
  },
  "language_info": {
   "codemirror_mode": {
    "name": "ipython",
    "version": 3
   },
   "file_extension": ".py",
   "mimetype": "text/x-python",
   "name": "python",
   "nbconvert_exporter": "python",
   "pygments_lexer": "ipython3",
   "version": "3.10.8"
  }
 },
 "nbformat": 4,
 "nbformat_minor": 5
}
